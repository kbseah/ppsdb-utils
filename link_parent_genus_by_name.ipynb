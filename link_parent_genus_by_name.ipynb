{
 "cells": [
  {
   "cell_type": "code",
   "execution_count": 8,
   "id": "54d6beb6-17ca-40b2-b001-9d97593bac19",
   "metadata": {
    "tags": []
   },
   "outputs": [],
   "source": [
    "import pandas as pd\n",
    "import json\n",
    "from pprint import pprint\n",
    "\n",
    "from wikibaseintegrator.wbi_config import config as wbi_config\n",
    "from wikibaseintegrator import wbi_login, WikibaseIntegrator, datatypes, wbi_helpers\n",
    "\n",
    "wbi_config['MEDIAWIKI_API_URL'] = 'https://ppsdb.wikibase.cloud/w/api.php'\n",
    "wbi_config['SPARQL_ENDPOINT_URL'] = 'https://ppsdb.wikibase.cloud/query/sparql'\n",
    "wbi_config['WIKIBASE_URL'] = 'https://ppsdb.wikibase.cloud'\n",
    "\n",
    "with open(\"secrets/bot_password.json\", \"r\") as fh:\n",
    "    pw = json.load(fh)\n",
    "login = wbi_login.Login(user = pw['user'], password=pw['password'])\n",
    "\n",
    "sparql_prefixes = \"\"\"\n",
    "PREFIX pp: <https://ppsdb.wikibase.cloud/entity/>\n",
    "PREFIX ppt: <https://ppsdb.wikibase.cloud/prop/direct/>\n",
    "PREFIX pps: <https://ppsdb.wikibase.cloud/prop/>\n",
    "PREFIX ppss: <https://ppsdb.wikibase.cloud/prop/statement/>\n",
    "PREFIX ppsq: <https://ppsdb.wikibase.cloud/prop/qualifier/>\n",
    "PREFIX ppsr: <https://ppsdb.wikibase.cloud/prop/reference/>\n",
    "\"\"\""
   ]
  },
  {
   "cell_type": "code",
   "execution_count": 2,
   "id": "e378c85c-aeb1-479e-b152-b78380abd56a",
   "metadata": {
    "tags": []
   },
   "outputs": [],
   "source": [
    "query = \"\"\"\n",
    "SELECT DISTINCT ?qid ?P29 WHERE {\n",
    "  {\n",
    "    SELECT DISTINCT ?item ?qid ?itemLabel ?maybeGenus WHERE {\n",
    "      ?item ppt:P19 ?symbiont.\n",
    "      FILTER(NOT EXISTS { ?item ppt:P29 ?parent. })\n",
    "      BIND(ENCODE_FOR_URI(REPLACE(STR(?item), \".*Q\", \"Q\")) AS ?qid)\n",
    "      SERVICE wikibase:label {\n",
    "        bd:serviceParam wikibase:language \"[AUTO_LANGUAGE],en\".\n",
    "        ?item rdfs:label ?itemLabel.\n",
    "      }\n",
    "      BIND(STRBEFORE(?itemLabel, \" \") AS ?maybeGenus)\n",
    "    }\n",
    "  }\n",
    "  {\n",
    "    SELECT DISTINCT ?item2 ?item2Label WHERE {\n",
    "      ?item2 ppt:P32 pp:Q601;\n",
    "        rdfs:label ?item2Label.\n",
    "      FILTER((LANG(?item2Label)) = \"en\")\n",
    "    }\n",
    "  }\n",
    "  FILTER(?item2Label = ?maybeGenus)\n",
    "  BIND(ENCODE_FOR_URI(REPLACE(STR(?item), \".*Q\", \"Q\")) AS ?qid)\n",
    "  BIND(ENCODE_FOR_URI(REPLACE(STR(?item2), \".*Q\", \"Q\")) AS ?P29)\n",
    "}\n",
    "\"\"\""
   ]
  },
  {
   "cell_type": "code",
   "execution_count": 3,
   "id": "437d97de-331c-421e-b883-d2fa36ae2b30",
   "metadata": {
    "tags": []
   },
   "outputs": [],
   "source": [
    "tolink = wbi_helpers.execute_sparql_query(query=query, prefix=sparql_prefixes)"
   ]
  },
  {
   "cell_type": "code",
   "execution_count": 6,
   "id": "2c6a6f31-a2e7-4c64-b0cf-33ee20ca2b3a",
   "metadata": {
    "tags": []
   },
   "outputs": [],
   "source": [
    "wbi = WikibaseIntegrator(login=login)"
   ]
  },
  {
   "cell_type": "code",
   "execution_count": 7,
   "id": "9ea6901c-5d0d-4d2d-8a9f-c5456efb5f5c",
   "metadata": {
    "tags": []
   },
   "outputs": [],
   "source": [
    "for i in tolink['results']['bindings']:\n",
    "    q = wbi.item.get(i['qid']['value'])\n",
    "    q.claims.add(datatypes.Item(i['P29']['value'], prop_nr=\"P29\"))\n",
    "    q.write(summary=\"Link host taxon to genus by name\")"
   ]
  }
 ],
 "metadata": {
  "kernelspec": {
   "display_name": "ppsdb",
   "language": "python",
   "name": "ppsdb"
  },
  "language_info": {
   "codemirror_mode": {
    "name": "ipython",
    "version": 3
   },
   "file_extension": ".py",
   "mimetype": "text/x-python",
   "name": "python",
   "nbconvert_exporter": "python",
   "pygments_lexer": "ipython3",
   "version": "3.10.6"
  }
 },
 "nbformat": 4,
 "nbformat_minor": 5
}
