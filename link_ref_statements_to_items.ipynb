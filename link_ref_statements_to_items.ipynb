{
 "cells": [
  {
   "cell_type": "markdown",
   "id": "44ec3983-5405-4a15-aa01-43b7306b7f73",
   "metadata": {},
   "source": [
    "Check for reference statements with a reference DOI (P27) but without a \"stated in\" (P23) link to a reference item.\n",
    "\n",
    "When editing, references can be added with just a reference DOI (P27) without creating a corresponding reference item first. The DOIs can then be used to retrieve article titles (from Wikidata) and create reference items.\n",
    "\n",
    "The reference statements are then linked to the reference items with the same DOI value."
   ]
  },
  {
   "cell_type": "code",
   "execution_count": 1,
   "id": "b9125962-c624-4c39-9cdc-3fafddfe13b7",
   "metadata": {
    "tags": []
   },
   "outputs": [],
   "source": [
    "import pandas as pd\n",
    "import json\n",
    "from pprint import pprint\n",
    "\n",
    "from wikibaseintegrator.wbi_config import config as wbi_config\n",
    "from wikibaseintegrator import wbi_login, WikibaseIntegrator, datatypes, wbi_helpers\n",
    "\n",
    "wbi_config['MEDIAWIKI_API_URL'] = 'https://ppsdb.wikibase.cloud/w/api.php'\n",
    "wbi_config['SPARQL_ENDPOINT_URL'] = 'https://ppsdb.wikibase.cloud/query/sparql'\n",
    "wbi_config['WIKIBASE_URL'] = 'https://ppsdb.wikibase.cloud'"
   ]
  },
  {
   "cell_type": "code",
   "execution_count": 2,
   "id": "d9837b4e-2b4a-4961-a123-5e3b0c0789de",
   "metadata": {
    "tags": []
   },
   "outputs": [],
   "source": [
    "with open(\"secrets/bot_password.json\", \"r\") as fh:\n",
    "    pw = json.load(fh)\n",
    "login = wbi_login.Login(user = pw['user'], password=pw['password'])"
   ]
  },
  {
   "cell_type": "code",
   "execution_count": 3,
   "id": "ec879995-21f5-4a6e-b6cf-fda28a7420cb",
   "metadata": {
    "tags": []
   },
   "outputs": [],
   "source": [
    "sparql_prefixes = \"\"\"\n",
    "PREFIX pp: <https://ppsdb.wikibase.cloud/entity/>\n",
    "PREFIX ppt: <https://ppsdb.wikibase.cloud/prop/direct/>\n",
    "PREFIX pps: <https://ppsdb.wikibase.cloud/prop/>\n",
    "PREFIX ppss: <https://ppsdb.wikibase.cloud/prop/statement/>\n",
    "PREFIX ppsq: <https://ppsdb.wikibase.cloud/prop/qualifier/>\n",
    "PREFIX ppsr: <https://ppsdb.wikibase.cloud/prop/reference/>\n",
    "\"\"\""
   ]
  },
  {
   "cell_type": "code",
   "execution_count": 4,
   "id": "dd3e480b-3e1f-4813-a575-0a07ee22b5fc",
   "metadata": {
    "tags": []
   },
   "outputs": [],
   "source": [
    "query_refs = \"\"\"\n",
    "SELECT DISTINCT ?ref ?DOI WHERE {\n",
    "    ?ref ppt:P13 ?DOI\n",
    "}\n",
    "\"\"\""
   ]
  },
  {
   "cell_type": "code",
   "execution_count": 5,
   "id": "ab8af74e-c34c-44cc-be9b-256e72bc5957",
   "metadata": {
    "tags": []
   },
   "outputs": [],
   "source": [
    "all_refs = wbi_helpers.execute_sparql_query(query=query_refs, prefix=sparql_prefixes)"
   ]
  },
  {
   "cell_type": "code",
   "execution_count": 6,
   "id": "7f06963e-4b08-4649-a533-0651600a6d2b",
   "metadata": {
    "tags": []
   },
   "outputs": [],
   "source": [
    "doi2ref = { i['DOI']['value'] : i['ref']['value'].split(\"/\")[-1] for i in all_refs['results']['bindings'] } "
   ]
  },
  {
   "cell_type": "code",
   "execution_count": 23,
   "id": "9419485c-706c-47b1-9251-3fa78b625f08",
   "metadata": {
    "tags": []
   },
   "outputs": [],
   "source": [
    "query_items_with_unlinked_refs = \"\"\"\n",
    "SELECT DISTINCT ?host ?interaction WHERE {\n",
    "  ?host pps:P19 ?interaction.\n",
    "  ?interaction prov:wasDerivedFrom ?refnode.\n",
    "  ?refnode ppsr:P27 ?doi.\n",
    "  FILTER NOT EXISTS { ?refnode ppsr:P23 ?statedin }\n",
    "  BIND (UCASE(STR(?doi)) AS ?DOI)\n",
    "}\n",
    "\"\"\""
   ]
  },
  {
   "cell_type": "code",
   "execution_count": 24,
   "id": "455b72fd-bacd-429d-af9d-423e67ee5555",
   "metadata": {
    "tags": []
   },
   "outputs": [],
   "source": [
    "unlinked_refs = wbi_helpers.execute_sparql_query(query=query_items_with_unlinked_refs, prefix=sparql_prefixes)"
   ]
  },
  {
   "cell_type": "code",
   "execution_count": 25,
   "id": "fb64c4f8-dae3-48aa-adde-02c2f5503511",
   "metadata": {
    "tags": []
   },
   "outputs": [],
   "source": [
    "wbi = WikibaseIntegrator(login=login)"
   ]
  },
  {
   "cell_type": "code",
   "execution_count": 26,
   "id": "d0da3520-d8e9-4312-84f7-8389ce0ae7a5",
   "metadata": {
    "tags": []
   },
   "outputs": [],
   "source": [
    "items_to_process = list(set([i['host']['value'].split(\"/\")[-1] for i in unlinked_refs['results']['bindings']])) # for testing"
   ]
  },
  {
   "cell_type": "code",
   "execution_count": 28,
   "id": "249d8833-2bd0-4fed-96bf-c5b8f6ecd472",
   "metadata": {
    "tags": []
   },
   "outputs": [
    {
     "data": {
      "text/plain": [
       "311"
      ]
     },
     "execution_count": 28,
     "metadata": {},
     "output_type": "execute_result"
    }
   ],
   "source": [
    "len(items_to_process)"
   ]
  },
  {
   "cell_type": "code",
   "execution_count": null,
   "id": "53047af4-358f-4d95-b69a-95298fddc2a9",
   "metadata": {
    "tags": []
   },
   "outputs": [],
   "source": [
    "for q in items_to_process:\n",
    "    current_item = wbi.item.get(q)\n",
    "    for interaction in current_item.claims.get('P19'):\n",
    "        counter = 0\n",
    "        for current_ref in interaction.references:\n",
    "            if len(current_ref.snaks.get(\"P23\")) == 0 and len(current_ref.snaks.get(\"P27\")) == 1: # no stated in and only one doi\n",
    "                # print(doi)\n",
    "                doi = current_ref.snaks.get(\"P27\")[0].datavalue['value'].upper()\n",
    "                if doi in doi2ref:\n",
    "                    current_ref.add(datatypes.Item(doi2ref[doi], prop_nr=\"P23\"))\n",
    "                    counter += 1\n",
    "    current_item.write(summary=\"link items to reference statements by DOI\")\n",
    "    print(q + \" \" + str(counter))"
   ]
  }
 ],
 "metadata": {
  "kernelspec": {
   "display_name": "ppsdb",
   "language": "python",
   "name": "ppsdb"
  },
  "language_info": {
   "codemirror_mode": {
    "name": "ipython",
    "version": 3
   },
   "file_extension": ".py",
   "mimetype": "text/x-python",
   "name": "python",
   "nbconvert_exporter": "python",
   "pygments_lexer": "ipython3",
   "version": "3.10.6"
  }
 },
 "nbformat": 4,
 "nbformat_minor": 5
}
